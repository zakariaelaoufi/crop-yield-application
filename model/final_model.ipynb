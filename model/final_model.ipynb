{
 "cells": [
  {
   "cell_type": "code",
   "id": "initial_id",
   "metadata": {
    "collapsed": true,
    "ExecuteTime": {
     "end_time": "2025-04-27T11:55:48.302668Z",
     "start_time": "2025-04-27T11:55:48.134736Z"
    }
   },
   "source": [
    "import pandas as pd\n",
    "import numpy as np\n",
    "import matplotlib.pyplot as plt\n",
    "import seaborn as sns\n",
    "sns.set_style(\"whitegrid\")\n",
    "\n",
    "import warnings\n",
    "warnings.filterwarnings(\"ignore\")"
   ],
   "outputs": [],
   "execution_count": 117
  },
  {
   "metadata": {},
   "cell_type": "markdown",
   "source": "# Data Preparation",
   "id": "112ec9ca2573f160"
  },
  {
   "metadata": {
    "ExecuteTime": {
     "end_time": "2025-04-27T11:55:48.768528Z",
     "start_time": "2025-04-27T11:55:48.316989Z"
    }
   },
   "cell_type": "code",
   "source": [
    "yield_df = pd.read_csv('./data/yield_df.csv')\n",
    "yield_df.drop('Unnamed: 0', axis=1, inplace=True)\n",
    "yield_df.head()"
   ],
   "id": "d176035e50417ce5",
   "outputs": [
    {
     "data": {
      "text/plain": [
       "      Area         Item  Year  hg/ha_yield  average_rain_fall_mm_per_year  \\\n",
       "0  Albania        Maize  1990        36613                         1485.0   \n",
       "1  Albania     Potatoes  1990        66667                         1485.0   \n",
       "2  Albania  Rice, paddy  1990        23333                         1485.0   \n",
       "3  Albania      Sorghum  1990        12500                         1485.0   \n",
       "4  Albania     Soybeans  1990         7000                         1485.0   \n",
       "\n",
       "   pesticides_tonnes  avg_temp  \n",
       "0              121.0     16.37  \n",
       "1              121.0     16.37  \n",
       "2              121.0     16.37  \n",
       "3              121.0     16.37  \n",
       "4              121.0     16.37  "
      ],
      "text/html": [
       "<div>\n",
       "<style scoped>\n",
       "    .dataframe tbody tr th:only-of-type {\n",
       "        vertical-align: middle;\n",
       "    }\n",
       "\n",
       "    .dataframe tbody tr th {\n",
       "        vertical-align: top;\n",
       "    }\n",
       "\n",
       "    .dataframe thead th {\n",
       "        text-align: right;\n",
       "    }\n",
       "</style>\n",
       "<table border=\"1\" class=\"dataframe\">\n",
       "  <thead>\n",
       "    <tr style=\"text-align: right;\">\n",
       "      <th></th>\n",
       "      <th>Area</th>\n",
       "      <th>Item</th>\n",
       "      <th>Year</th>\n",
       "      <th>hg/ha_yield</th>\n",
       "      <th>average_rain_fall_mm_per_year</th>\n",
       "      <th>pesticides_tonnes</th>\n",
       "      <th>avg_temp</th>\n",
       "    </tr>\n",
       "  </thead>\n",
       "  <tbody>\n",
       "    <tr>\n",
       "      <th>0</th>\n",
       "      <td>Albania</td>\n",
       "      <td>Maize</td>\n",
       "      <td>1990</td>\n",
       "      <td>36613</td>\n",
       "      <td>1485.0</td>\n",
       "      <td>121.0</td>\n",
       "      <td>16.37</td>\n",
       "    </tr>\n",
       "    <tr>\n",
       "      <th>1</th>\n",
       "      <td>Albania</td>\n",
       "      <td>Potatoes</td>\n",
       "      <td>1990</td>\n",
       "      <td>66667</td>\n",
       "      <td>1485.0</td>\n",
       "      <td>121.0</td>\n",
       "      <td>16.37</td>\n",
       "    </tr>\n",
       "    <tr>\n",
       "      <th>2</th>\n",
       "      <td>Albania</td>\n",
       "      <td>Rice, paddy</td>\n",
       "      <td>1990</td>\n",
       "      <td>23333</td>\n",
       "      <td>1485.0</td>\n",
       "      <td>121.0</td>\n",
       "      <td>16.37</td>\n",
       "    </tr>\n",
       "    <tr>\n",
       "      <th>3</th>\n",
       "      <td>Albania</td>\n",
       "      <td>Sorghum</td>\n",
       "      <td>1990</td>\n",
       "      <td>12500</td>\n",
       "      <td>1485.0</td>\n",
       "      <td>121.0</td>\n",
       "      <td>16.37</td>\n",
       "    </tr>\n",
       "    <tr>\n",
       "      <th>4</th>\n",
       "      <td>Albania</td>\n",
       "      <td>Soybeans</td>\n",
       "      <td>1990</td>\n",
       "      <td>7000</td>\n",
       "      <td>1485.0</td>\n",
       "      <td>121.0</td>\n",
       "      <td>16.37</td>\n",
       "    </tr>\n",
       "  </tbody>\n",
       "</table>\n",
       "</div>"
      ]
     },
     "execution_count": 118,
     "metadata": {},
     "output_type": "execute_result"
    }
   ],
   "execution_count": 118
  },
  {
   "metadata": {
    "ExecuteTime": {
     "end_time": "2025-04-27T11:55:48.855010Z",
     "start_time": "2025-04-27T11:55:48.773626Z"
    }
   },
   "cell_type": "code",
   "source": "yield_df.describe()",
   "id": "774e32416b026f48",
   "outputs": [
    {
     "data": {
      "text/plain": [
       "               Year    hg/ha_yield  average_rain_fall_mm_per_year  \\\n",
       "count  28242.000000   28242.000000                    28242.00000   \n",
       "mean    2001.544296   77053.332094                     1149.05598   \n",
       "std        7.051905   84956.612897                      709.81215   \n",
       "min     1990.000000      50.000000                       51.00000   \n",
       "25%     1995.000000   19919.250000                      593.00000   \n",
       "50%     2001.000000   38295.000000                     1083.00000   \n",
       "75%     2008.000000  104676.750000                     1668.00000   \n",
       "max     2013.000000  501412.000000                     3240.00000   \n",
       "\n",
       "       pesticides_tonnes      avg_temp  \n",
       "count       28242.000000  28242.000000  \n",
       "mean        37076.909344     20.542627  \n",
       "std         59958.784665      6.312051  \n",
       "min             0.040000      1.300000  \n",
       "25%          1702.000000     16.702500  \n",
       "50%         17529.440000     21.510000  \n",
       "75%         48687.880000     26.000000  \n",
       "max        367778.000000     30.650000  "
      ],
      "text/html": [
       "<div>\n",
       "<style scoped>\n",
       "    .dataframe tbody tr th:only-of-type {\n",
       "        vertical-align: middle;\n",
       "    }\n",
       "\n",
       "    .dataframe tbody tr th {\n",
       "        vertical-align: top;\n",
       "    }\n",
       "\n",
       "    .dataframe thead th {\n",
       "        text-align: right;\n",
       "    }\n",
       "</style>\n",
       "<table border=\"1\" class=\"dataframe\">\n",
       "  <thead>\n",
       "    <tr style=\"text-align: right;\">\n",
       "      <th></th>\n",
       "      <th>Year</th>\n",
       "      <th>hg/ha_yield</th>\n",
       "      <th>average_rain_fall_mm_per_year</th>\n",
       "      <th>pesticides_tonnes</th>\n",
       "      <th>avg_temp</th>\n",
       "    </tr>\n",
       "  </thead>\n",
       "  <tbody>\n",
       "    <tr>\n",
       "      <th>count</th>\n",
       "      <td>28242.000000</td>\n",
       "      <td>28242.000000</td>\n",
       "      <td>28242.00000</td>\n",
       "      <td>28242.000000</td>\n",
       "      <td>28242.000000</td>\n",
       "    </tr>\n",
       "    <tr>\n",
       "      <th>mean</th>\n",
       "      <td>2001.544296</td>\n",
       "      <td>77053.332094</td>\n",
       "      <td>1149.05598</td>\n",
       "      <td>37076.909344</td>\n",
       "      <td>20.542627</td>\n",
       "    </tr>\n",
       "    <tr>\n",
       "      <th>std</th>\n",
       "      <td>7.051905</td>\n",
       "      <td>84956.612897</td>\n",
       "      <td>709.81215</td>\n",
       "      <td>59958.784665</td>\n",
       "      <td>6.312051</td>\n",
       "    </tr>\n",
       "    <tr>\n",
       "      <th>min</th>\n",
       "      <td>1990.000000</td>\n",
       "      <td>50.000000</td>\n",
       "      <td>51.00000</td>\n",
       "      <td>0.040000</td>\n",
       "      <td>1.300000</td>\n",
       "    </tr>\n",
       "    <tr>\n",
       "      <th>25%</th>\n",
       "      <td>1995.000000</td>\n",
       "      <td>19919.250000</td>\n",
       "      <td>593.00000</td>\n",
       "      <td>1702.000000</td>\n",
       "      <td>16.702500</td>\n",
       "    </tr>\n",
       "    <tr>\n",
       "      <th>50%</th>\n",
       "      <td>2001.000000</td>\n",
       "      <td>38295.000000</td>\n",
       "      <td>1083.00000</td>\n",
       "      <td>17529.440000</td>\n",
       "      <td>21.510000</td>\n",
       "    </tr>\n",
       "    <tr>\n",
       "      <th>75%</th>\n",
       "      <td>2008.000000</td>\n",
       "      <td>104676.750000</td>\n",
       "      <td>1668.00000</td>\n",
       "      <td>48687.880000</td>\n",
       "      <td>26.000000</td>\n",
       "    </tr>\n",
       "    <tr>\n",
       "      <th>max</th>\n",
       "      <td>2013.000000</td>\n",
       "      <td>501412.000000</td>\n",
       "      <td>3240.00000</td>\n",
       "      <td>367778.000000</td>\n",
       "      <td>30.650000</td>\n",
       "    </tr>\n",
       "  </tbody>\n",
       "</table>\n",
       "</div>"
      ]
     },
     "execution_count": 119,
     "metadata": {},
     "output_type": "execute_result"
    }
   ],
   "execution_count": 119
  },
  {
   "metadata": {},
   "cell_type": "markdown",
   "source": "## Check for Null Value",
   "id": "ea32627ab222bf3d"
  },
  {
   "metadata": {
    "ExecuteTime": {
     "end_time": "2025-04-27T11:55:48.903125Z",
     "start_time": "2025-04-27T11:55:48.862080Z"
    }
   },
   "cell_type": "code",
   "source": "yield_df.isnull().sum()",
   "id": "d7fcd2426a61cf71",
   "outputs": [
    {
     "data": {
      "text/plain": [
       "Area                             0\n",
       "Item                             0\n",
       "Year                             0\n",
       "hg/ha_yield                      0\n",
       "average_rain_fall_mm_per_year    0\n",
       "pesticides_tonnes                0\n",
       "avg_temp                         0\n",
       "dtype: int64"
      ]
     },
     "execution_count": 120,
     "metadata": {},
     "output_type": "execute_result"
    }
   ],
   "execution_count": 120
  },
  {
   "metadata": {},
   "cell_type": "markdown",
   "source": "## Duplicate Detection",
   "id": "c7e4369fe1cecce1"
  },
  {
   "metadata": {
    "ExecuteTime": {
     "end_time": "2025-04-27T11:55:48.958888Z",
     "start_time": "2025-04-27T11:55:48.909147Z"
    }
   },
   "cell_type": "code",
   "source": "yield_df.duplicated(keep='last').sum()",
   "id": "549662fe6574806",
   "outputs": [
    {
     "data": {
      "text/plain": [
       "2310"
      ]
     },
     "execution_count": 121,
     "metadata": {},
     "output_type": "execute_result"
    }
   ],
   "execution_count": 121
  },
  {
   "metadata": {
    "ExecuteTime": {
     "end_time": "2025-04-27T11:55:49.037104Z",
     "start_time": "2025-04-27T11:55:48.964070Z"
    }
   },
   "cell_type": "code",
   "source": "yield_no_duplicate = yield_df.drop_duplicates(keep='last')",
   "id": "89bfe3c282c009f5",
   "outputs": [],
   "execution_count": 122
  },
  {
   "metadata": {
    "ExecuteTime": {
     "end_time": "2025-04-27T11:55:49.061377Z",
     "start_time": "2025-04-27T11:55:49.041107Z"
    }
   },
   "cell_type": "code",
   "source": "yield_df.shape[0], yield_no_duplicate.shape[0]",
   "id": "8918805c5424688d",
   "outputs": [
    {
     "data": {
      "text/plain": [
       "(28242, 25932)"
      ]
     },
     "execution_count": 123,
     "metadata": {},
     "output_type": "execute_result"
    }
   ],
   "execution_count": 123
  },
  {
   "metadata": {},
   "cell_type": "markdown",
   "source": "## Outliers Detection",
   "id": "3e97d210cd48667f"
  },
  {
   "metadata": {
    "ExecuteTime": {
     "end_time": "2025-04-27T11:55:50.038860Z",
     "start_time": "2025-04-27T11:55:49.065709Z"
    }
   },
   "cell_type": "code",
   "source": [
    "yield_df.plot(kind='box', figsize=(16, 7))\n",
    "plt.show()"
   ],
   "id": "44c4e72bf6743667",
   "outputs": [
    {
     "data": {
      "text/plain": [
       "<Figure size 1600x700 with 1 Axes>"
      ],
      "image/png": "[encoded data removed]"
     },
     "metadata": {},
     "output_type": "display_data"
    }
   ],
   "execution_count": 124
  },
  {
   "metadata": {},
   "cell_type": "markdown",
   "source": "## Log Transformation",
   "id": "8131b530baf8be05"
  },
  {
   "metadata": {
    "ExecuteTime": {
     "end_time": "2025-04-27T11:55:50.066960Z",
     "start_time": "2025-04-27T11:55:50.045968Z"
    }
   },
   "cell_type": "code",
   "source": [
    "def log_transform(df):\n",
    "    data = df.copy()\n",
    "    data['ha_yield_log'] = np.log(df['hg/ha_yield'] + df['hg/ha_yield'].min())\n",
    "    data['pesticides_tonnes_log'] = np.log(df['pesticides_tonnes'] + 1)\n",
    "    data.drop(['pesticides_tonnes', 'hg/ha_yield'], axis=1, inplace=True)\n",
    "    return data"
   ],
   "id": "2124a87a4bf5b53c",
   "outputs": [],
   "execution_count": 125
  },
  {
   "metadata": {
    "ExecuteTime": {
     "end_time": "2025-04-27T11:55:50.125365Z",
     "start_time": "2025-04-27T11:55:50.077036Z"
    }
   },
   "cell_type": "code",
   "source": "log_yield = log_transform(yield_no_duplicate)",
   "id": "e98a9678dea62dcc",
   "outputs": [],
   "execution_count": 126
  },
  {
   "metadata": {
    "ExecuteTime": {
     "end_time": "2025-04-27T11:55:50.563047Z",
     "start_time": "2025-04-27T11:55:50.129380Z"
    }
   },
   "cell_type": "code",
   "source": [
    "log_yield.plot(kind='box', figsize=(16, 7))\n",
    "plt.show()"
   ],
   "id": "a89f31fabeb56fb9",
   "outputs": [
    {
     "data": {
      "text/plain": [
       "<Figure size 1600x700 with 1 Axes>"
      ],
      "image/png": "[encoded data removed]"
     },
     "metadata": {},
     "output_type": "display_data"
    }
   ],
   "execution_count": 127
  },
  {
   "metadata": {},
   "cell_type": "markdown",
   "source": "## Data Encoding",
   "id": "d149e8bcdc45225f"
  },
  {
   "metadata": {
    "ExecuteTime": {
     "end_time": "2025-04-27T11:55:50.588062Z",
     "start_time": "2025-04-27T11:55:50.568061Z"
    }
   },
   "cell_type": "code",
   "source": [
    "ordinal_cols = ['Area', 'Item']\n",
    "num_col = log_yield.select_dtypes(include=np.number).columns.tolist()"
   ],
   "id": "2dd7e6d97b34dd20",
   "outputs": [],
   "execution_count": 128
  },
  {
   "metadata": {
    "ExecuteTime": {
     "end_time": "2025-04-27T12:08:59.243474Z",
     "start_time": "2025-04-27T12:08:59.079691Z"
    }
   },
   "cell_type": "code",
   "source": [
    "X = log_yield.drop('ha_yield_log', axis=1)\n",
    "y = log_yield['ha_yield_log']"
   ],
   "id": "a7f95227948ce8d6",
   "outputs": [],
   "execution_count": 143
  },
  {
   "metadata": {
    "ExecuteTime": {
     "end_time": "2025-04-27T12:09:14.102926Z",
     "start_time": "2025-04-27T12:09:14.060355Z"
    }
   },
   "cell_type": "code",
   "source": [
    "from sklearn.compose import ColumnTransformer\n",
    "from sklearn.preprocessing import OrdinalEncoder\n",
    "\n",
    "transformer = ColumnTransformer(\n",
    "    transformers=[\n",
    "        ('ordinal', OrdinalEncoder(), ordinal_cols),\n",
    "    ],\n",
    "    remainder=\"passthrough\",\n",
    "    verbose_feature_names_out=False\n",
    ").set_output(transform=\"pandas\")\n",
    "\n",
    "X_transformed = transformer.fit_transform(X)"
   ],
   "id": "f5b69d0c1dd9082d",
   "outputs": [],
   "execution_count": 145
  },
  {
   "metadata": {
    "ExecuteTime": {
     "end_time": "2025-04-27T12:09:16.527795Z",
     "start_time": "2025-04-27T12:09:16.494419Z"
    }
   },
   "cell_type": "code",
   "source": "X_transformed.head()",
   "id": "cac8afa713db7867",
   "outputs": [
    {
     "data": {
      "text/plain": [
       "   Area  Item  Year  average_rain_fall_mm_per_year  avg_temp  \\\n",
       "0   0.0   1.0  1990                         1485.0     16.37   \n",
       "1   0.0   3.0  1990                         1485.0     16.37   \n",
       "2   0.0   4.0  1990                         1485.0     16.37   \n",
       "3   0.0   5.0  1990                         1485.0     16.37   \n",
       "4   0.0   6.0  1990                         1485.0     16.37   \n",
       "\n",
       "   pesticides_tonnes_log  \n",
       "0               4.804021  \n",
       "1               4.804021  \n",
       "2               4.804021  \n",
       "3               4.804021  \n",
       "4               4.804021  "
      ],
      "text/html": [
       "<div>\n",
       "<style scoped>\n",
       "    .dataframe tbody tr th:only-of-type {\n",
       "        vertical-align: middle;\n",
       "    }\n",
       "\n",
       "    .dataframe tbody tr th {\n",
       "        vertical-align: top;\n",
       "    }\n",
       "\n",
       "    .dataframe thead th {\n",
       "        text-align: right;\n",
       "    }\n",
       "</style>\n",
       "<table border=\"1\" class=\"dataframe\">\n",
       "  <thead>\n",
       "    <tr style=\"text-align: right;\">\n",
       "      <th></th>\n",
       "      <th>Area</th>\n",
       "      <th>Item</th>\n",
       "      <th>Year</th>\n",
       "      <th>average_rain_fall_mm_per_year</th>\n",
       "      <th>avg_temp</th>\n",
       "      <th>pesticides_tonnes_log</th>\n",
       "    </tr>\n",
       "  </thead>\n",
       "  <tbody>\n",
       "    <tr>\n",
       "      <th>0</th>\n",
       "      <td>0.0</td>\n",
       "      <td>1.0</td>\n",
       "      <td>1990</td>\n",
       "      <td>1485.0</td>\n",
       "      <td>16.37</td>\n",
       "      <td>4.804021</td>\n",
       "    </tr>\n",
       "    <tr>\n",
       "      <th>1</th>\n",
       "      <td>0.0</td>\n",
       "      <td>3.0</td>\n",
       "      <td>1990</td>\n",
       "      <td>1485.0</td>\n",
       "      <td>16.37</td>\n",
       "      <td>4.804021</td>\n",
       "    </tr>\n",
       "    <tr>\n",
       "      <th>2</th>\n",
       "      <td>0.0</td>\n",
       "      <td>4.0</td>\n",
       "      <td>1990</td>\n",
       "      <td>1485.0</td>\n",
       "      <td>16.37</td>\n",
       "      <td>4.804021</td>\n",
       "    </tr>\n",
       "    <tr>\n",
       "      <th>3</th>\n",
       "      <td>0.0</td>\n",
       "      <td>5.0</td>\n",
       "      <td>1990</td>\n",
       "      <td>1485.0</td>\n",
       "      <td>16.37</td>\n",
       "      <td>4.804021</td>\n",
       "    </tr>\n",
       "    <tr>\n",
       "      <th>4</th>\n",
       "      <td>0.0</td>\n",
       "      <td>6.0</td>\n",
       "      <td>1990</td>\n",
       "      <td>1485.0</td>\n",
       "      <td>16.37</td>\n",
       "      <td>4.804021</td>\n",
       "    </tr>\n",
       "  </tbody>\n",
       "</table>\n",
       "</div>"
      ]
     },
     "execution_count": 146,
     "metadata": {},
     "output_type": "execute_result"
    }
   ],
   "execution_count": 146
  },
  {
   "metadata": {},
   "cell_type": "markdown",
   "source": "# Model Training",
   "id": "41684033d83015d2"
  },
  {
   "metadata": {},
   "cell_type": "markdown",
   "source": "## Data splitting",
   "id": "ab5e5fa078324011"
  },
  {
   "metadata": {
    "ExecuteTime": {
     "end_time": "2025-04-27T12:09:21.399246Z",
     "start_time": "2025-04-27T12:09:21.385992Z"
    }
   },
   "cell_type": "code",
   "source": "from sklearn.model_selection import train_test_split",
   "id": "2cf6308f16f1fad8",
   "outputs": [],
   "execution_count": 147
  },
  {
   "metadata": {
    "ExecuteTime": {
     "end_time": "2025-04-27T12:09:27.681116Z",
     "start_time": "2025-04-27T12:09:27.555447Z"
    }
   },
   "cell_type": "code",
   "source": [
    "X_train, X_hold_out, y_train, y_hold_out = train_test_split(X_transformed, y, test_size=0.3, random_state=42)\n",
    "X_test, X_val, y_test, y_val = train_test_split(X_hold_out, y_hold_out, test_size=0.5, random_state=42)"
   ],
   "id": "f6b6e95663f51ac7",
   "outputs": [],
   "execution_count": 148
  },
  {
   "metadata": {
    "ExecuteTime": {
     "end_time": "2025-04-27T12:09:28.638180Z",
     "start_time": "2025-04-27T12:09:28.622064Z"
    }
   },
   "cell_type": "code",
   "source": "len(X_train), len(X_hold_out), len(X_test), len(X_val)",
   "id": "8cfb13cd9b6f9cae",
   "outputs": [
    {
     "data": {
      "text/plain": [
       "(18152, 7780, 3890, 3890)"
      ]
     },
     "execution_count": 149,
     "metadata": {},
     "output_type": "execute_result"
    }
   ],
   "execution_count": 149
  },
  {
   "metadata": {},
   "cell_type": "markdown",
   "source": "## Model Comparison",
   "id": "636d413187153804"
  },
  {
   "metadata": {
    "ExecuteTime": {
     "end_time": "2025-04-27T12:09:30.567148Z",
     "start_time": "2025-04-27T12:09:30.547118Z"
    }
   },
   "cell_type": "code",
   "source": [
    "from sklearn.metrics import mean_squared_error, r2_score, root_mean_squared_error\n",
    "from sklearn.svm import SVR\n",
    "from sklearn.neighbors import KNeighborsRegressor\n",
    "from sklearn.linear_model import LinearRegression\n",
    "from sklearn.ensemble import RandomForestRegressor\n",
    "from xgboost import XGBRegressor"
   ],
   "id": "d9c30d93f13a1720",
   "outputs": [],
   "execution_count": 150
  },
  {
   "metadata": {
    "ExecuteTime": {
     "end_time": "2025-04-27T12:15:58.403637Z",
     "start_time": "2025-04-27T12:15:58.248018Z"
    }
   },
   "cell_type": "code",
   "source": "X_train.columns",
   "id": "fdb61547ac7afb21",
   "outputs": [
    {
     "data": {
      "text/plain": [
       "Index(['Area', 'Item', 'Year', 'average_rain_fall_mm_per_year', 'avg_temp',\n",
       "       'pesticides_tonnes_log'],\n",
       "      dtype='object')"
      ]
     },
     "execution_count": 156,
     "metadata": {},
     "output_type": "execute_result"
    }
   ],
   "execution_count": 156
  },
  {
   "metadata": {
    "ExecuteTime": {
     "end_time": "2025-04-27T12:10:12.982551Z",
     "start_time": "2025-04-27T12:09:31.214706Z"
    }
   },
   "cell_type": "code",
   "source": [
    "## Model Training and Evaluation\n",
    "models = {\n",
    "    \"Linear Regression\": LinearRegression(),\n",
    "    \"KNN\": KNeighborsRegressor(),\n",
    "    \"Support Vector Machine\": SVR(),\n",
    "    \"Random Forest\": RandomForestRegressor(n_estimators=22, random_state=42, max_depth=8),\n",
    "    \"XGBoost\": XGBRegressor(n_estimators=22, random_state=42, max_depth=8)\n",
    "}\n",
    "\n",
    "results = {}\n",
    "\n",
    "# Train and evaluate each model\n",
    "for name, model in models.items():\n",
    "    # Train on training set\n",
    "    model.fit(X_train, y_train)\n",
    "    \n",
    "    # Evaluate on validation set\n",
    "    y_val_pred = model.predict(X_val)\n",
    "    \n",
    "    val_mse = mean_squared_error(y_val, y_val_pred)\n",
    "    val_rmse = root_mean_squared_error(y_val, y_val_pred)\n",
    "    val_r2 = r2_score(y_val, y_val_pred)\n",
    "\n",
    "    results[name] = {\n",
    "        \"Validation MSE\": val_mse,\n",
    "        \"Validation RMSE\": val_rmse,\n",
    "        \"Validation R2\": val_r2,\n",
    "    }\n",
    "\n",
    "results_df = pd.DataFrame(results).T\n",
    "print(\"Model Performance Comparison:\")\n",
    "print(results_df)"
   ],
   "id": "704ab7bfb4300a70",
   "outputs": [
    {
     "name": "stdout",
     "output_type": "stream",
     "text": [
      "Model Performance Comparison:\n",
      "                        Validation MSE  Validation RMSE  Validation R2\n",
      "Linear Regression             1.112352         1.054681       0.118873\n",
      "KNN                           0.554934         0.744939       0.560420\n",
      "Support Vector Machine        1.253142         1.119438       0.007349\n",
      "Random Forest                 0.113872         0.337449       0.909799\n",
      "XGBoost                       0.046107         0.214726       0.963477\n"
     ]
    }
   ],
   "execution_count": 151
  },
  {
   "metadata": {},
   "cell_type": "markdown",
   "source": "## Fine Tune best Model",
   "id": "d01f60e21984d3ff"
  },
  {
   "metadata": {
    "ExecuteTime": {
     "end_time": "2025-04-27T12:10:29.272155Z",
     "start_time": "2025-04-27T12:10:12.989234Z"
    }
   },
   "cell_type": "code",
   "source": [
    "from sklearn.model_selection import GridSearchCV\n",
    "\n",
    "# Define the parameter grid\n",
    "param_grid = {\n",
    "    'n_estimators': [i for i in range(2,30,4)],\n",
    "    'max_depth': [j for j in range(5,10)],\n",
    "}\n",
    "\n",
    "# Setup GridSearchCV\n",
    "grid_search = GridSearchCV(\n",
    "    estimator=XGBRegressor(),\n",
    "    param_grid=param_grid,\n",
    "    cv=3,                \n",
    "    n_jobs=-1,           \n",
    "    verbose=2,\n",
    "    scoring='neg_mean_squared_error' \n",
    ")\n",
    "\n",
    "# Fit on your training data\n",
    "grid_search.fit(X_train, y_train)\n",
    "\n",
    "# Best parameters\n",
    "print(\"Best Parameters:\", grid_search.best_params_)\n",
    "\n",
    "# Best model\n",
    "best_model = grid_search.best_estimator_"
   ],
   "id": "91c7c17e2708a527",
   "outputs": [
    {
     "name": "stdout",
     "output_type": "stream",
     "text": [
      "Fitting 3 folds for each of 35 candidates, totalling 105 fits\n",
      "Best Parameters: {'max_depth': 9, 'n_estimators': 26}\n"
     ]
    }
   ],
   "execution_count": 152
  },
  {
   "metadata": {},
   "cell_type": "markdown",
   "source": "## Fine Tuned Model Evaluation",
   "id": "bd53a5d2fa31a0fe"
  },
  {
   "metadata": {
    "ExecuteTime": {
     "end_time": "2025-04-27T12:10:29.315899Z",
     "start_time": "2025-04-27T12:10:29.278168Z"
    }
   },
   "cell_type": "code",
   "source": [
    "# Predict on the validation set\n",
    "y_val_pred = best_model.predict(X_val)\n",
    "\n",
    "# MSE, RMSE, R2\n",
    "mse = mean_squared_error(y_val, y_val_pred)\n",
    "rmse = root_mean_squared_error(y_val, y_val_pred)\n",
    "r2 = r2_score(y_val, y_val_pred)\n",
    "\n",
    "print(\"Validation MSE:\", mse)\n",
    "print(\"Validation RMSE:\", rmse)\n",
    "print(\"Validation R2:\", r2)"
   ],
   "id": "df2b8e456aa4a649",
   "outputs": [
    {
     "name": "stdout",
     "output_type": "stream",
     "text": [
      "Validation MSE: 0.036326695353960096\n",
      "Validation RMSE: 0.19059563309257666\n",
      "Validation R2: 0.9712245418703962\n"
     ]
    }
   ],
   "execution_count": 153
  },
  {
   "metadata": {
    "ExecuteTime": {
     "end_time": "2025-04-27T12:10:29.353094Z",
     "start_time": "2025-04-27T12:10:29.320947Z"
    }
   },
   "cell_type": "code",
   "source": [
    "y_test_pred = best_model.predict(X_test)\n",
    "\n",
    "# MSE, RMSE, R2\n",
    "mse = mean_squared_error(y_test, y_test_pred)\n",
    "rmse = root_mean_squared_error(y_test, y_test_pred)\n",
    "r2 = r2_score(y_test, y_test_pred)\n",
    "\n",
    "print(\"Test MSE:\", mse)\n",
    "print(\"Test RMSE:\", rmse)\n",
    "print(\"Test R2:\", r2)"
   ],
   "id": "6aa3e723f17bad9d",
   "outputs": [
    {
     "name": "stdout",
     "output_type": "stream",
     "text": [
      "Test MSE: 0.033991250433219475\n",
      "Test RMSE: 0.18436716202518136\n",
      "Test R2: 0.9719077099006136\n"
     ]
    }
   ],
   "execution_count": 154
  },
  {
   "metadata": {},
   "cell_type": "markdown",
   "source": "## Save Model",
   "id": "aa18208b86cdfa17"
  },
  {
   "metadata": {
    "ExecuteTime": {
     "end_time": "2025-04-27T12:24:06.832854Z",
     "start_time": "2025-04-27T12:24:06.657792Z"
    }
   },
   "cell_type": "code",
   "source": [
    "import pickle \n",
    "\n",
    "filename = ['pipeline-final.sav', 'xgboost_model-final.sav']\n",
    "pickle.dump(transformer, open(filename[0], 'wb')) \n",
    "pickle.dump(best_model, open(filename[1], 'wb')) "
   ],
   "id": "9d6e14cd32f6d258",
   "outputs": [],
   "execution_count": 161
  }
 ],
 "metadata": {
  "kernelspec": {
   "display_name": "Python 3",
   "language": "python",
   "name": "python3"
  },
  "language_info": {
   "codemirror_mode": {
    "name": "ipython",
    "version": 2
   },
   "file_extension": ".py",
   "mimetype": "text/x-python",
   "name": "python",
   "nbconvert_exporter": "python",
   "pygments_lexer": "ipython2",
   "version": "2.7.6"
  }
 },
 "nbformat": 4,
 "nbformat_minor": 5
}
